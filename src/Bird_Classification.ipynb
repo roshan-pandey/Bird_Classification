{
 "cells": [
  {
   "cell_type": "code",
   "execution_count": 30,
   "id": "6ce5e216",
   "metadata": {},
   "outputs": [],
   "source": [
    "import numpy as np\n",
    "import pandas as pd\n",
    "import seaborn as sns\n",
    "from tqdm import tqdm\n",
    "import tensorflow as tf\n",
    "from keras import backend as k\n",
    "import matplotlib.pyplot as plt\n",
    "from tensorflow.keras.preprocessing import image\n",
    "from tensorflow.keras.models import Model, load_model\n",
    "from tensorflow.keras.preprocessing.image import ImageDataGenerator\n",
    "from keras.applications.vgg16 import VGG16 \n",
    "from tensorflow.keras.applications import ResNet101\n",
    "from tensorflow.keras.layers import Dense, Input, Conv2D, Dropout, Flatten, Activation, BatchNormalization, Dropout, GlobalAveragePooling2D, MaxPooling2D\n",
    "from tensorflow.keras.models import Model\n",
    "from keras.callbacks import Callback, ModelCheckpoint\n",
    "from tensorflow.keras.utils import to_categorical\n",
    "from tensorflow.keras.callbacks import EarlyStopping\n",
    "from tensorflow.keras import Sequential\n",
    "from tensorflow.keras.optimizers import SGD, Adam\n",
    "from tqdm import tqdm\n",
    "from tensorflow.keras.applications.inception_v3 import InceptionV3\n",
    "from tensorflow.keras.applications.efficientnet import EfficientNetB0\n",
    "from tensorflow.keras.applications import Xception\n",
    "import tensorflow_addons as tfa\n",
    "import cv2"
   ]
  },
  {
   "cell_type": "code",
   "execution_count": 2,
   "id": "f2ab3708",
   "metadata": {},
   "outputs": [],
   "source": [
    "birds = pd.read_csv('../data/birds.csv')"
   ]
  },
  {
   "cell_type": "code",
   "execution_count": 3,
   "id": "7687f791",
   "metadata": {},
   "outputs": [
    {
     "data": {
      "text/html": [
       "<div>\n",
       "<style scoped>\n",
       "    .dataframe tbody tr th:only-of-type {\n",
       "        vertical-align: middle;\n",
       "    }\n",
       "\n",
       "    .dataframe tbody tr th {\n",
       "        vertical-align: top;\n",
       "    }\n",
       "\n",
       "    .dataframe thead th {\n",
       "        text-align: right;\n",
       "    }\n",
       "</style>\n",
       "<table border=\"1\" class=\"dataframe\">\n",
       "  <thead>\n",
       "    <tr style=\"text-align: right;\">\n",
       "      <th></th>\n",
       "      <th>class index</th>\n",
       "      <th>filepaths</th>\n",
       "      <th>labels</th>\n",
       "      <th>data set</th>\n",
       "    </tr>\n",
       "  </thead>\n",
       "  <tbody>\n",
       "    <tr>\n",
       "      <th>0</th>\n",
       "      <td>0</td>\n",
       "      <td>train/ABBOTTS BABBLER/001.jpg</td>\n",
       "      <td>ABBOTTS BABBLER</td>\n",
       "      <td>train</td>\n",
       "    </tr>\n",
       "    <tr>\n",
       "      <th>1</th>\n",
       "      <td>0</td>\n",
       "      <td>train/ABBOTTS BABBLER/002.jpg</td>\n",
       "      <td>ABBOTTS BABBLER</td>\n",
       "      <td>train</td>\n",
       "    </tr>\n",
       "    <tr>\n",
       "      <th>2</th>\n",
       "      <td>0</td>\n",
       "      <td>train/ABBOTTS BABBLER/003.jpg</td>\n",
       "      <td>ABBOTTS BABBLER</td>\n",
       "      <td>train</td>\n",
       "    </tr>\n",
       "    <tr>\n",
       "      <th>3</th>\n",
       "      <td>0</td>\n",
       "      <td>train/ABBOTTS BABBLER/004.jpg</td>\n",
       "      <td>ABBOTTS BABBLER</td>\n",
       "      <td>train</td>\n",
       "    </tr>\n",
       "    <tr>\n",
       "      <th>4</th>\n",
       "      <td>0</td>\n",
       "      <td>train/ABBOTTS BABBLER/005.jpg</td>\n",
       "      <td>ABBOTTS BABBLER</td>\n",
       "      <td>train</td>\n",
       "    </tr>\n",
       "  </tbody>\n",
       "</table>\n",
       "</div>"
      ],
      "text/plain": [
       "   class index                      filepaths           labels data set\n",
       "0            0  train/ABBOTTS BABBLER/001.jpg  ABBOTTS BABBLER    train\n",
       "1            0  train/ABBOTTS BABBLER/002.jpg  ABBOTTS BABBLER    train\n",
       "2            0  train/ABBOTTS BABBLER/003.jpg  ABBOTTS BABBLER    train\n",
       "3            0  train/ABBOTTS BABBLER/004.jpg  ABBOTTS BABBLER    train\n",
       "4            0  train/ABBOTTS BABBLER/005.jpg  ABBOTTS BABBLER    train"
      ]
     },
     "execution_count": 3,
     "metadata": {},
     "output_type": "execute_result"
    }
   ],
   "source": [
    "birds.head(5)"
   ]
  },
  {
   "cell_type": "code",
   "execution_count": 4,
   "id": "28bc7a2a",
   "metadata": {},
   "outputs": [],
   "source": [
    "train = birds[birds['data set'] == 'train']\n",
    "test = birds[birds['data set'] == 'test']\n",
    "val = birds[birds['data set'] == 'valid']"
   ]
  },
  {
   "cell_type": "code",
   "execution_count": 5,
   "id": "f5b75983",
   "metadata": {},
   "outputs": [
    {
     "data": {
      "text/plain": [
       "(54652, 4)"
      ]
     },
     "execution_count": 5,
     "metadata": {},
     "output_type": "execute_result"
    }
   ],
   "source": [
    "train.shape"
   ]
  },
  {
   "cell_type": "code",
   "execution_count": 6,
   "id": "9dd83bfd",
   "metadata": {},
   "outputs": [
    {
     "data": {
      "text/plain": [
       "(1875, 4)"
      ]
     },
     "execution_count": 6,
     "metadata": {},
     "output_type": "execute_result"
    }
   ],
   "source": [
    "test.shape"
   ]
  },
  {
   "cell_type": "code",
   "execution_count": 7,
   "id": "bf24a63d",
   "metadata": {},
   "outputs": [
    {
     "data": {
      "text/plain": [
       "(1875, 4)"
      ]
     },
     "execution_count": 7,
     "metadata": {},
     "output_type": "execute_result"
    }
   ],
   "source": [
    "val.shape"
   ]
  },
  {
   "cell_type": "code",
   "execution_count": 39,
   "id": "5e154fd1",
   "metadata": {},
   "outputs": [
    {
     "data": {
      "text/html": [
       "<div>\n",
       "<style scoped>\n",
       "    .dataframe tbody tr th:only-of-type {\n",
       "        vertical-align: middle;\n",
       "    }\n",
       "\n",
       "    .dataframe tbody tr th {\n",
       "        vertical-align: top;\n",
       "    }\n",
       "\n",
       "    .dataframe thead th {\n",
       "        text-align: right;\n",
       "    }\n",
       "</style>\n",
       "<table border=\"1\" class=\"dataframe\">\n",
       "  <thead>\n",
       "    <tr style=\"text-align: right;\">\n",
       "      <th></th>\n",
       "      <th>class index</th>\n",
       "      <th>filepaths</th>\n",
       "      <th>labels</th>\n",
       "      <th>data set</th>\n",
       "    </tr>\n",
       "  </thead>\n",
       "  <tbody>\n",
       "    <tr>\n",
       "      <th>54652</th>\n",
       "      <td>0</td>\n",
       "      <td>test/ABBOTTS BABBLER/1.jpg</td>\n",
       "      <td>ABBOTTS BABBLER</td>\n",
       "      <td>test</td>\n",
       "    </tr>\n",
       "    <tr>\n",
       "      <th>54653</th>\n",
       "      <td>0</td>\n",
       "      <td>test/ABBOTTS BABBLER/2.jpg</td>\n",
       "      <td>ABBOTTS BABBLER</td>\n",
       "      <td>test</td>\n",
       "    </tr>\n",
       "    <tr>\n",
       "      <th>54654</th>\n",
       "      <td>0</td>\n",
       "      <td>test/ABBOTTS BABBLER/3.jpg</td>\n",
       "      <td>ABBOTTS BABBLER</td>\n",
       "      <td>test</td>\n",
       "    </tr>\n",
       "    <tr>\n",
       "      <th>54655</th>\n",
       "      <td>0</td>\n",
       "      <td>test/ABBOTTS BABBLER/4.jpg</td>\n",
       "      <td>ABBOTTS BABBLER</td>\n",
       "      <td>test</td>\n",
       "    </tr>\n",
       "    <tr>\n",
       "      <th>54656</th>\n",
       "      <td>0</td>\n",
       "      <td>test/ABBOTTS BABBLER/5.jpg</td>\n",
       "      <td>ABBOTTS BABBLER</td>\n",
       "      <td>test</td>\n",
       "    </tr>\n",
       "  </tbody>\n",
       "</table>\n",
       "</div>"
      ],
      "text/plain": [
       "       class index                   filepaths           labels data set\n",
       "54652            0  test/ABBOTTS BABBLER/1.jpg  ABBOTTS BABBLER     test\n",
       "54653            0  test/ABBOTTS BABBLER/2.jpg  ABBOTTS BABBLER     test\n",
       "54654            0  test/ABBOTTS BABBLER/3.jpg  ABBOTTS BABBLER     test\n",
       "54655            0  test/ABBOTTS BABBLER/4.jpg  ABBOTTS BABBLER     test\n",
       "54656            0  test/ABBOTTS BABBLER/5.jpg  ABBOTTS BABBLER     test"
      ]
     },
     "execution_count": 39,
     "metadata": {},
     "output_type": "execute_result"
    }
   ],
   "source": [
    "test.head(5)"
   ]
  },
  {
   "cell_type": "code",
   "execution_count": 62,
   "id": "c52dca8e",
   "metadata": {},
   "outputs": [],
   "source": [
    "# img = cv2.imread(f'../data/{birds['filepaths'][100]}')\n",
    "# plt.imshow(img)"
   ]
  },
  {
   "cell_type": "code",
   "execution_count": 23,
   "id": "56054f64",
   "metadata": {},
   "outputs": [],
   "source": [
    "BATCH_SIZE = 34\n",
    "EPOCHS = 20\n",
    "INPUT_SIZE = [224, 224]"
   ]
  },
  {
   "cell_type": "code",
   "execution_count": 40,
   "id": "a3ba5424",
   "metadata": {},
   "outputs": [
    {
     "name": "stdout",
     "output_type": "stream",
     "text": [
      "Found 54652 validated image filenames belonging to 375 classes.\n",
      "Found 1875 validated image filenames belonging to 375 classes.\n",
      "Found 1875 validated image filenames belonging to 375 classes.\n"
     ]
    }
   ],
   "source": [
    "datagen=ImageDataGenerator(rescale=1.0/255.0, \n",
    "                           shear_range=0.1, \n",
    "                           zoom_range=0.1, \n",
    "                           horizontal_flip=True, \n",
    "                           vertical_flip = True)\n",
    "\n",
    "train_generator = datagen.flow_from_dataframe(\n",
    "    dataframe = train,\n",
    "    directory=\"../data/\",\n",
    "    x_col=\"filepaths\",\n",
    "    y_col=\"labels\",\n",
    "    subset=\"training\",\n",
    "    batch_size=BATCH_SIZE,\n",
    "    seed=42,\n",
    "    shuffle=True,\n",
    "    class_mode=\"categorical\",\n",
    "    target_size=INPUT_SIZE,\n",
    ")\n",
    "\n",
    "valid_datagen = ImageDataGenerator(rescale=1.0 / 255.0,\n",
    "                                   shear_range=0.1, \n",
    "                                   zoom_range=0.1, \n",
    "                                   horizontal_flip=True, \n",
    "                                   vertical_flip = True)\n",
    "\n",
    "valid_generator = valid_datagen.flow_from_dataframe(\n",
    "    dataframe=val,\n",
    "    directory=\"../data/\",\n",
    "    x_col=\"filepaths\",\n",
    "    y_col=\"labels\",\n",
    "    batch_size=BATCH_SIZE,\n",
    "    seed=42,\n",
    "    shuffle=True,\n",
    "    class_mode=\"categorical\",\n",
    "    target_size=INPUT_SIZE,\n",
    ")\n",
    "\n",
    "test_datagen = ImageDataGenerator(rescale=1.0 / 255.0)\n",
    "test_generator = test_datagen.flow_from_dataframe(\n",
    "    dataframe=test,\n",
    "    directory=\"../data/\",\n",
    "    x_col=\"filepaths\",\n",
    "    y_col=\"labels\",\n",
    "    batch_size=BATCH_SIZE,\n",
    "    seed=42,\n",
    "    shuffle=False,\n",
    "    class_mode=\"categorical\",\n",
    "    target_size=INPUT_SIZE,\n",
    ")"
   ]
  },
  {
   "cell_type": "code",
   "execution_count": 48,
   "id": "7db9919b",
   "metadata": {},
   "outputs": [],
   "source": [
    "# ModelCheckpoint callback is used to save only the best model out of all the epochs...\n",
    "checkpoint = ModelCheckpoint(filepath=\"../models/resnet.h5\", verbose=2, save_best_only=True)\n",
    "vgg_checkpoint = ModelCheckpoint(filepath=\"../models/vgg16.h5\", verbose=2, save_best_only=True)\n",
    "incepV3_checkpoint = ModelCheckpoint(filepath=\"../models/inception.h5\", verbose=2, save_best_only=True)\n",
    "xcep_checkpoint = ModelCheckpoint(filepath=\"../models/Xception_v2.h5\", verbose=2, save_best_only=True)\n",
    "\n",
    "\n",
    "# EarlyStopping callback is used to stop the training when accuracy doesn't improve for 5 epochs...\n",
    "early_stop = EarlyStopping(monitor=\"val_loss\", min_delta=0, patience=5)\n",
    "\n",
    "callbacks = [early_stop, checkpoint]\n",
    "vgg_callbacks = [early_stop, vgg_checkpoint]\n",
    "incepV3_callbacks = [early_stop, incepV3_checkpoint]\n",
    "xcep_callbacks = [early_stop, xcep_checkpoint]"
   ]
  },
  {
   "cell_type": "code",
   "execution_count": 12,
   "id": "2f7e8478",
   "metadata": {},
   "outputs": [],
   "source": [
    "def plotter(history, model):\n",
    "    fig, axes = plt.subplots(1, 2, figsize = (10, 5)) # fig of 1 row and 2 cols with 10x5 size...\n",
    "    # In First column of figure, plotting accuracy and val accuracy from trained model object(history)...\n",
    "    axes[0].plot(range(1, len(history.history['accuracy']) + 1), history.history['accuracy'], linestyle = 'solid', marker = 'o', color = 'crimson', label = 'Training Accuracy') \n",
    "    axes[0].plot(range(1, len(history.history['val_accuracy']) + 1), history.history['val_accuracy'], linestyle = 'solid', marker = 'o', color = 'dodgerblue', label = 'Testing Accuracy')\n",
    "    axes[0].set_xlabel('Epochs', fontsize = 14)\n",
    "    axes[0].set_ylabel('Accuracy',fontsize = 14)\n",
    "    axes[0].set_title(f\"{model} Accuracy Training vs Testing\", fontsize = 14)\n",
    "    axes[0].legend(loc = 'best') # Location of the legend, whereever is more empty space put legent there (loc= 'best')...\n",
    "    # In Second column of figure, plotting accuracy and val accuracy from trained model object(history)...\n",
    "    axes[1].plot(range(1, len(history.history['loss']) + 1), history.history['loss'], linestyle = 'solid', marker = 'o', color = 'crimson', label = 'Training Loss')\n",
    "    axes[1].plot(range(1, len(history.history['val_loss']) + 1), history.history['val_loss'], linestyle = 'solid', marker = 'o', color = 'dodgerblue', label = 'Testing Loss')\n",
    "    axes[1].set_xlabel('Epochs', fontsize = 14)\n",
    "    axes[1].set_ylabel('Loss',fontsize = 14)\n",
    "    axes[1].set_title(f\"{model} Loss Training vs Testing\", fontsize = 14)\n",
    "    axes[1].legend(loc = 'best')\n",
    "    plt.show()"
   ]
  },
  {
   "cell_type": "code",
   "execution_count": 18,
   "id": "67b50ec0",
   "metadata": {},
   "outputs": [],
   "source": [
    "# input of size 256x256x3... hight x width = 256 x 256, number of channels = 3...\n",
    "input = Input(name = 'img_input', shape=INPUT_SIZE+[3])"
   ]
  },
  {
   "cell_type": "code",
   "execution_count": 13,
   "id": "81e58e54",
   "metadata": {},
   "outputs": [],
   "source": [
    "# def network(base_model, input):\n",
    "    \n",
    "#     # Removes the values in the graph(network connections) but do not delete the graph itself... helps in RAM cleaning...\n",
    "#     tf.keras.backend.clear_session() \n",
    "\n",
    "#     # Making Base model layers as non-trainable...\n",
    "#     for layer in base_model.layers:\n",
    "#       layer.trainable = False\n",
    "\n",
    "#     input_layer = base_model(input) # defining input layer...\n",
    "\n",
    "\n",
    "#     # Functional API of keras is used for this network...\n",
    "\n",
    "#     # Convolution layer with 32 filters of size 3x3 and stride = 1x1, activation function used is ReLU and \"valid\" padding to keep the input and output size same...\n",
    "#     # he normal kernel initializer is used as it performs well with non-linear activation functions like ReLU... \n",
    "#     conv = Conv2D(filters = 32, kernel_size = (7, 7), strides = (1, 1), padding = 'valid', activation = 'relu', \n",
    "#               kernel_initializer = tf.keras.initializers.he_normal())(input_layer)\n",
    "#     pool = GlobalAveragePooling2D()(conv) # the pool size is set to the input size and it outputs the average of the pool...\n",
    "#     d1 = Dense(units = 64, activation = 'relu', kernel_initializer = tf.keras.initializers.he_normal())(pool)\n",
    "#     drop1 = Dropout(0.5)(d1) # dropout was used to deactivate some of the nodes to avoid overfitting...\n",
    "#     d2 = Dense(units = 128, activation = 'relu', kernel_initializer = tf.keras.initializers.he_normal())(drop1)\n",
    "#     bn = BatchNormalization()(d2) # batch normalization was used normalize weights batch wise and in turn reduce the chances of overfitting...\n",
    "#     drop2 = Dropout(0.2)(bn)\n",
    "#     d3 = Dense(units = 64, activation = 'relu', kernel_initializer = tf.keras.initializers.he_normal())(drop2)\n",
    "#     Out = Dense(units = 375, activation = 'softmax', kernel_initializer = tf.keras.initializers.he_normal())(d3)\n",
    "#     model = tf.keras.Model(input, Out) \n",
    "    \n",
    "#     return model"
   ]
  },
  {
   "cell_type": "code",
   "execution_count": 54,
   "id": "2d25d344",
   "metadata": {},
   "outputs": [],
   "source": [
    "def network(base_model, input):\n",
    "    \n",
    "    # Removes the values in the graph(network connections) but do not delete the graph itself... helps in RAM cleaning...\n",
    "    tf.keras.backend.clear_session() \n",
    "\n",
    "    # Making Base model layers as non-trainable...\n",
    "    for i in base_model.layers[:-15]:\n",
    "        i.trainable=False\n",
    "\n",
    "    input_layer = base_model(input, training=False)\n",
    "    \n",
    "    model = Sequential()\n",
    "    model.add(base_model)\n",
    "    model.add(Flatten()) \n",
    "    model.add(Activation('relu'))\n",
    "    model.add(Dense(375)) \n",
    "    model.add(Activation('softmax'))\n",
    "    \n",
    "\n",
    "\n",
    "#     input_layer = base_model(input) # defining input layer...\n",
    "\n",
    "\n",
    "#     # Functional API of keras is used for this network...\n",
    "\n",
    "#     # Convolution layer with 32 filters of size 3x3 and stride = 1x1, activation function used is ReLU and \"valid\" padding to keep the input and output size same...\n",
    "#     # he normal kernel initializer is used as it performs well with non-linear activation functions like ReLU... \n",
    "    \n",
    "#     model = Sequential()\n",
    "#     model.add(base_model)\n",
    "# #     model.add(Conv2D(filters = 32, kernel_size = (3,3), strides = (1, 1), padding = 'valid', activation = 'relu', \n",
    "# #               kernel_initializer = tf.keras.initializers.he_normal()))\n",
    "#     model.add(Flatten())\n",
    "#     model.add(Dense(units = 1024, activation = 'relu', kernel_initializer = tf.keras.initializers.he_normal()))\n",
    "#     model.add(Dropout(0.2))\n",
    "#     model.add(Dense(units = 512, activation = 'relu', kernel_initializer = tf.keras.initializers.he_normal()))\n",
    "#     model.add(BatchNormalization())\n",
    "#     model.add(Dropout(0.2))\n",
    "#     model.add(Dense(units = 512, activation = 'relu', kernel_initializer = tf.keras.initializers.he_normal()))\n",
    "#     model.add(Dense(units = 375, activation = 'softmax', kernel_initializer = tf.keras.initializers.he_normal()))\n",
    "    \n",
    "    return model"
   ]
  },
  {
   "cell_type": "code",
   "execution_count": 55,
   "id": "2bca71f0",
   "metadata": {},
   "outputs": [
    {
     "name": "stdout",
     "output_type": "stream",
     "text": [
      "Epoch 1/20\n",
      "1608/1607 [==============================] - ETA: 0s - loss: 5.3944 - accuracy: 0.0470 - f1_score: 0.0397\n",
      "Epoch 00001: val_loss improved from inf to 5.00828, saving model to ../models\\resnet.h5\n",
      "1607/1607 [==============================] - 446s 275ms/step - loss: 5.3944 - accuracy: 0.0470 - f1_score: 0.0397 - val_loss: 5.0083 - val_accuracy: 0.0816 - val_f1_score: 0.0598\n",
      "Epoch 2/20\n",
      "1608/1607 [==============================] - ETA: 0s - loss: 4.6109 - accuracy: 0.1150 - f1_score: 0.1021\n",
      "Epoch 00002: val_loss improved from 5.00828 to 4.91834, saving model to ../models\\resnet.h5\n",
      "1607/1607 [==============================] - 446s 277ms/step - loss: 4.6109 - accuracy: 0.1150 - f1_score: 0.1021 - val_loss: 4.9183 - val_accuracy: 0.1029 - val_f1_score: 0.0838\n",
      "Epoch 3/20\n",
      "1608/1607 [==============================] - ETA: 0s - loss: 4.1806 - accuracy: 0.1684 - f1_score: 0.1563\n",
      "Epoch 00003: val_loss improved from 4.91834 to 4.26487, saving model to ../models\\resnet.h5\n",
      "1607/1607 [==============================] - 443s 276ms/step - loss: 4.1806 - accuracy: 0.1684 - f1_score: 0.1563 - val_loss: 4.2649 - val_accuracy: 0.1611 - val_f1_score: 0.1414\n",
      "Epoch 4/20\n",
      "1608/1607 [==============================] - ETA: 0s - loss: 3.8411 - accuracy: 0.2164 - f1_score: 0.2054\n",
      "Epoch 00004: val_loss improved from 4.26487 to 3.78758, saving model to ../models\\resnet.h5\n",
      "1607/1607 [==============================] - 451s 280ms/step - loss: 3.8411 - accuracy: 0.2164 - f1_score: 0.2054 - val_loss: 3.7876 - val_accuracy: 0.2272 - val_f1_score: 0.2098\n",
      "Epoch 5/20\n",
      "1608/1607 [==============================] - ETA: 0s - loss: 3.5440 - accuracy: 0.2622 - f1_score: 0.2529\n",
      "Epoch 00005: val_loss improved from 3.78758 to 3.74746, saving model to ../models\\resnet.h5\n",
      "1607/1607 [==============================] - 444s 276ms/step - loss: 3.5440 - accuracy: 0.2622 - f1_score: 0.2529 - val_loss: 3.7475 - val_accuracy: 0.2400 - val_f1_score: 0.2272\n",
      "Epoch 6/20\n",
      "1608/1607 [==============================] - ETA: 0s - loss: 3.2913 - accuracy: 0.3024 - f1_score: 0.2948\n",
      "Epoch 00006: val_loss did not improve from 3.74746\n",
      "1607/1607 [==============================] - 445s 277ms/step - loss: 3.2913 - accuracy: 0.3024 - f1_score: 0.2948 - val_loss: 3.7833 - val_accuracy: 0.2613 - val_f1_score: 0.2463\n",
      "Epoch 7/20\n",
      "1608/1607 [==============================] - ETA: 0s - loss: 3.0549 - accuracy: 0.3408 - f1_score: 0.3344\n",
      "Epoch 00007: val_loss improved from 3.74746 to 3.16302, saving model to ../models\\resnet.h5\n",
      "1607/1607 [==============================] - 441s 274ms/step - loss: 3.0549 - accuracy: 0.3408 - f1_score: 0.3344 - val_loss: 3.1630 - val_accuracy: 0.3365 - val_f1_score: 0.3107\n",
      "Epoch 8/20\n",
      "1608/1607 [==============================] - ETA: 0s - loss: 2.8285 - accuracy: 0.3837 - f1_score: 0.3784\n",
      "Epoch 00008: val_loss did not improve from 3.16302\n",
      "1607/1607 [==============================] - 451s 281ms/step - loss: 2.8285 - accuracy: 0.3837 - f1_score: 0.3784 - val_loss: 3.2228 - val_accuracy: 0.3285 - val_f1_score: 0.3084\n",
      "Epoch 9/20\n",
      "1608/1607 [==============================] - ETA: 0s - loss: 2.6259 - accuracy: 0.4172 - f1_score: 0.4121\n",
      "Epoch 00009: val_loss did not improve from 3.16302\n",
      "1607/1607 [==============================] - 442s 275ms/step - loss: 2.6259 - accuracy: 0.4172 - f1_score: 0.4121 - val_loss: 3.1658 - val_accuracy: 0.3419 - val_f1_score: 0.3241\n",
      "Epoch 10/20\n",
      "1608/1607 [==============================] - ETA: 0s - loss: 2.4168 - accuracy: 0.4550 - f1_score: 0.4520\n",
      "Epoch 00010: val_loss improved from 3.16302 to 3.10459, saving model to ../models\\resnet.h5\n",
      "1607/1607 [==============================] - 447s 278ms/step - loss: 2.4168 - accuracy: 0.4550 - f1_score: 0.4520 - val_loss: 3.1046 - val_accuracy: 0.3675 - val_f1_score: 0.3485\n",
      "Epoch 11/20\n",
      "1608/1607 [==============================] - ETA: 0s - loss: 2.2351 - accuracy: 0.4920 - f1_score: 0.4892\n",
      "Epoch 00011: val_loss did not improve from 3.10459\n",
      "1607/1607 [==============================] - 441s 274ms/step - loss: 2.2351 - accuracy: 0.4920 - f1_score: 0.4892 - val_loss: 3.3124 - val_accuracy: 0.3477 - val_f1_score: 0.3328\n",
      "Epoch 12/20\n",
      "1608/1607 [==============================] - ETA: 0s - loss: 2.0723 - accuracy: 0.5245 - f1_score: 0.5223\n",
      "Epoch 00012: val_loss improved from 3.10459 to 2.85189, saving model to ../models\\resnet.h5\n",
      "1607/1607 [==============================] - 453s 282ms/step - loss: 2.0723 - accuracy: 0.5245 - f1_score: 0.5223 - val_loss: 2.8519 - val_accuracy: 0.4139 - val_f1_score: 0.3948\n",
      "Epoch 13/20\n",
      "1608/1607 [==============================] - ETA: 0s - loss: 1.8947 - accuracy: 0.5592 - f1_score: 0.5574\n",
      "Epoch 00013: val_loss did not improve from 2.85189\n",
      "1607/1607 [==============================] - 442s 275ms/step - loss: 1.8947 - accuracy: 0.5592 - f1_score: 0.5574 - val_loss: 3.6729 - val_accuracy: 0.3253 - val_f1_score: 0.3198\n",
      "Epoch 14/20\n",
      "1608/1607 [==============================] - ETA: 0s - loss: 1.7526 - accuracy: 0.5892 - f1_score: 0.5883\n",
      "Epoch 00014: val_loss did not improve from 2.85189\n",
      "1607/1607 [==============================] - 446s 277ms/step - loss: 1.7526 - accuracy: 0.5892 - f1_score: 0.5883 - val_loss: 2.9038 - val_accuracy: 0.4016 - val_f1_score: 0.3861\n",
      "Epoch 15/20\n",
      "1608/1607 [==============================] - ETA: 0s - loss: 1.5996 - accuracy: 0.6213 - f1_score: 0.6203\n",
      "Epoch 00015: val_loss did not improve from 2.85189\n",
      "1607/1607 [==============================] - 441s 274ms/step - loss: 1.5996 - accuracy: 0.6213 - f1_score: 0.6203 - val_loss: 3.0438 - val_accuracy: 0.4027 - val_f1_score: 0.3885\n",
      "Epoch 16/20\n",
      "1608/1607 [==============================] - ETA: 0s - loss: 1.4598 - accuracy: 0.6501 - f1_score: 0.6491\n",
      "Epoch 00016: val_loss did not improve from 2.85189\n",
      "1607/1607 [==============================] - 452s 281ms/step - loss: 1.4598 - accuracy: 0.6501 - f1_score: 0.6491 - val_loss: 2.8695 - val_accuracy: 0.4160 - val_f1_score: 0.4110\n",
      "Epoch 17/20\n",
      "1608/1607 [==============================] - ETA: 0s - loss: 1.3325 - accuracy: 0.6796 - f1_score: 0.6792\n",
      "Epoch 00017: val_loss did not improve from 2.85189\n",
      "1607/1607 [==============================] - 443s 275ms/step - loss: 1.3325 - accuracy: 0.6796 - f1_score: 0.6792 - val_loss: 3.0841 - val_accuracy: 0.4107 - val_f1_score: 0.3945\n"
     ]
    }
   ],
   "source": [
    "# Loading weights of the ResNet101 pre-trained model without including top layers... imagenet is a dataset on which ResNet101 was trained...\n",
    "resnet_model = ResNet101(input_tensor = input, include_top=False, weights=\"imagenet\")\n",
    "\n",
    "res_model = network(resnet_model, input)\n",
    "\n",
    "adam = Adam(learning_rate=0.0001) # ADAM optimizer was used to reach the optimal weights...\n",
    "res_model.compile(optimizer=adam, loss='categorical_crossentropy', metrics=['accuracy', tfa.metrics.F1Score(375)])\n",
    "\n",
    "\n",
    "# Fitting/training model...\n",
    "res_history = res_model.fit(\n",
    "    train_generator, \n",
    "    steps_per_epoch = len(train) / BATCH_SIZE, # number of steps in each epoch...\n",
    "    callbacks=callbacks,\n",
    "    epochs = EPOCHS, \n",
    "    validation_data = valid_generator)"
   ]
  },
  {
   "cell_type": "code",
   "execution_count": 56,
   "id": "6a9c5efa",
   "metadata": {},
   "outputs": [
    {
     "data": {
      "image/png": "[encoded data removed]",
      "text/plain": [
       "<Figure size 720x360 with 2 Axes>"
      ]
     },
     "metadata": {
      "needs_background": "light"
     },
     "output_type": "display_data"
    }
   ],
   "source": [
    "plotter(res_history, \"ResNet101\")"
   ]
  },
  {
   "cell_type": "code",
   "execution_count": null,
   "id": "c6a1b7cf",
   "metadata": {},
   "outputs": [],
   "source": [
    "res_model.evaluate(test_generator)"
   ]
  },
  {
   "cell_type": "code",
   "execution_count": null,
   "id": "5236df8b",
   "metadata": {},
   "outputs": [],
   "source": [
    "# Loading weights of the vgg16 pre-trained model without including top layers... imagenet is a dataset on which vgg16 was trained...\n",
    "vgg16_model = VGG16(input_tensor = input, include_top=False, weights=\"imagenet\")\n",
    "\n",
    "vgg_model = network(vgg16_model, input)\n",
    "\n",
    "adam = Adam(learning_rate=0.0001) # ADAM optimizer was used to reach the optimal weights...\n",
    "vgg_model.compile(optimizer=adam, loss='categorical_crossentropy', metrics=['accuracy',  tfa.metrics.F1Score(375)])\n",
    "\n",
    "\n",
    "# Fitting/training model...\n",
    "vgg_history = vgg_model.fit(\n",
    "    train_generator, \n",
    "    steps_per_epoch = len(train) / BATCH_SIZE, # number of steps in each epoch...\n",
    "    callbacks=vgg_checkpoint,\n",
    "    epochs = EPOCHS, \n",
    "    validation_data = valid_generator)"
   ]
  },
  {
   "cell_type": "code",
   "execution_count": null,
   "id": "cdda17ed",
   "metadata": {},
   "outputs": [],
   "source": [
    "plotter(vgg_history, \"VGG16\")"
   ]
  },
  {
   "cell_type": "code",
   "execution_count": null,
   "id": "c322c622",
   "metadata": {},
   "outputs": [],
   "source": [
    "vgg_results = vgg_model.evaluate(test_generator)\n",
    "print(f\"Accuracy of Inception v3 transfer learning model is: {vgg_results}\")"
   ]
  },
  {
   "cell_type": "code",
   "execution_count": null,
   "id": "34c5117f",
   "metadata": {},
   "outputs": [],
   "source": [
    "# Loading weights of the InceptionV3 pre-trained model without including top layers... imagenet is a dataset on which InceptionV3 was trained...\n",
    "inception_model = InceptionV3(input_tensor = input, include_top=False, weights=\"imagenet\")\n",
    "\n",
    "incepV3_model = network(inception_model, input)\n",
    "\n",
    "adam = Adam(learning_rate=0.001) # ADAM optimizer was used to reach the optimal weights...\n",
    "incepV3_model.compile(optimizer=adam, loss='categorical_crossentropy', metrics=['accuracy', tfa.metrics.F1Score(375)])\n",
    "\n",
    "\n",
    "# Fitting/training model...\n",
    "incepV3_history = incepV3_model.fit(\n",
    "    train_generator, \n",
    "    steps_per_epoch = len(train) / BATCH_SIZE, # number of steps in each epoch...\n",
    "    callbacks=incepV3_checkpoint,\n",
    "    epochs = 50, \n",
    "    validation_data = valid_generator)"
   ]
  },
  {
   "cell_type": "code",
   "execution_count": null,
   "id": "5673ada3",
   "metadata": {},
   "outputs": [],
   "source": [
    "plotter(incepV3_history, \"InceptionV3\")"
   ]
  },
  {
   "cell_type": "code",
   "execution_count": null,
   "id": "c5e49d25",
   "metadata": {},
   "outputs": [],
   "source": [
    "incepV3_results = incepV3_model.evaluate(test_generator)\n",
    "print(f\"Accuracy of Inception v3 transfer learning model is: {incepV3_results}\")"
   ]
  },
  {
   "cell_type": "code",
   "execution_count": 49,
   "id": "fb3ece3f",
   "metadata": {},
   "outputs": [],
   "source": [
    "base_model = Xception(weights = 'imagenet', include_top = False, input_shape = (224, 224, 3))\n",
    "\n",
    "for i in base_model.layers[:-15]:\n",
    "    i.trainable=False\n",
    "\n",
    "\n",
    "input_layer = base_model(input, training=False)\n",
    "\n",
    "Xception_model = Sequential()\n",
    "Xception_model.add(base_model)\n",
    "Xception_model.add(Flatten()) \n",
    "Xception_model.add(Activation('relu'))\n",
    "Xception_model.add(Dense(375)) \n",
    "Xception_model.add(Activation('softmax'))\n"
   ]
  },
  {
   "cell_type": "code",
   "execution_count": 50,
   "id": "20137939",
   "metadata": {
    "scrolled": false
   },
   "outputs": [
    {
     "name": "stdout",
     "output_type": "stream",
     "text": [
      "Epoch 1/20\n",
      "1608/1607 [==============================] - ETA: 0s - loss: 1.4531 - accuracy: 0.6741 - f1_score: 0.6739\n",
      "Epoch 00001: val_loss improved from inf to 0.37008, saving model to ../models\\Xception_v2.h5\n",
      "1607/1607 [==============================] - 559s 347ms/step - loss: 1.4531 - accuracy: 0.6741 - f1_score: 0.6739 - val_loss: 0.3701 - val_accuracy: 0.8864 - val_f1_score: 0.8829\n",
      "Epoch 2/20\n",
      "1608/1607 [==============================] - ETA: 0s - loss: 0.4493 - accuracy: 0.8774 - f1_score: 0.8765\n",
      "Epoch 00002: val_loss improved from 0.37008 to 0.31346, saving model to ../models\\Xception_v2.h5\n",
      "1607/1607 [==============================] - 418s 260ms/step - loss: 0.4493 - accuracy: 0.8774 - f1_score: 0.8765 - val_loss: 0.3135 - val_accuracy: 0.9109 - val_f1_score: 0.9096\n",
      "Epoch 3/20\n",
      "1608/1607 [==============================] - ETA: 0s - loss: 0.2945 - accuracy: 0.9176 - f1_score: 0.9170\n",
      "Epoch 00003: val_loss improved from 0.31346 to 0.25540, saving model to ../models\\Xception_v2.h5\n",
      "1607/1607 [==============================] - 450s 280ms/step - loss: 0.2945 - accuracy: 0.9176 - f1_score: 0.9170 - val_loss: 0.2554 - val_accuracy: 0.9285 - val_f1_score: 0.9267\n",
      "Epoch 4/20\n",
      "1608/1607 [==============================] - ETA: 0s - loss: 0.2191 - accuracy: 0.9388 - f1_score: 0.9385\n",
      "Epoch 00004: val_loss improved from 0.25540 to 0.21343, saving model to ../models\\Xception_v2.h5\n",
      "1607/1607 [==============================] - 549s 342ms/step - loss: 0.2191 - accuracy: 0.9388 - f1_score: 0.9385 - val_loss: 0.2134 - val_accuracy: 0.9360 - val_f1_score: 0.9330\n",
      "Epoch 5/20\n",
      "1608/1607 [==============================] - ETA: 0s - loss: 0.1755 - accuracy: 0.9503 - f1_score: 0.9501\n",
      "Epoch 00005: val_loss did not improve from 0.21343\n",
      "1607/1607 [==============================] - 598s 372ms/step - loss: 0.1755 - accuracy: 0.9503 - f1_score: 0.9501 - val_loss: 0.2184 - val_accuracy: 0.9355 - val_f1_score: 0.9334\n",
      "Epoch 6/20\n",
      "1608/1607 [==============================] - ETA: 0s - loss: 0.1419 - accuracy: 0.9587 - f1_score: 0.9584\n",
      "Epoch 00006: val_loss improved from 0.21343 to 0.20683, saving model to ../models\\Xception_v2.h5\n",
      "1607/1607 [==============================] - 625s 389ms/step - loss: 0.1419 - accuracy: 0.9587 - f1_score: 0.9584 - val_loss: 0.2068 - val_accuracy: 0.9451 - val_f1_score: 0.9441\n",
      "Epoch 7/20\n",
      "1608/1607 [==============================] - ETA: 0s - loss: 0.1149 - accuracy: 0.9662 - f1_score: 0.9662\n",
      "Epoch 00007: val_loss improved from 0.20683 to 0.19364, saving model to ../models\\Xception_v2.h5\n",
      "1607/1607 [==============================] - 534s 332ms/step - loss: 0.1149 - accuracy: 0.9662 - f1_score: 0.9662 - val_loss: 0.1936 - val_accuracy: 0.9488 - val_f1_score: 0.9467\n",
      "Epoch 8/20\n",
      "1608/1607 [==============================] - ETA: 0s - loss: 0.1006 - accuracy: 0.9705 - f1_score: 0.9703\n",
      "Epoch 00008: val_loss improved from 0.19364 to 0.19111, saving model to ../models\\Xception_v2.h5\n",
      "1607/1607 [==============================] - 516s 321ms/step - loss: 0.1006 - accuracy: 0.9705 - f1_score: 0.9703 - val_loss: 0.1911 - val_accuracy: 0.9488 - val_f1_score: 0.9480\n",
      "Epoch 9/20\n",
      "1608/1607 [==============================] - ETA: 0s - loss: 0.0894 - accuracy: 0.9734 - f1_score: 0.9733\n",
      "Epoch 00009: val_loss did not improve from 0.19111\n",
      "1607/1607 [==============================] - 631s 393ms/step - loss: 0.0894 - accuracy: 0.9734 - f1_score: 0.9733 - val_loss: 0.2313 - val_accuracy: 0.9349 - val_f1_score: 0.9329\n",
      "Epoch 10/20\n",
      "1608/1607 [==============================] - ETA: 0s - loss: 0.0812 - accuracy: 0.9763 - f1_score: 0.9762\n",
      "Epoch 00010: val_loss did not improve from 0.19111\n",
      "1607/1607 [==============================] - 526s 327ms/step - loss: 0.0812 - accuracy: 0.9763 - f1_score: 0.9762 - val_loss: 0.2472 - val_accuracy: 0.9451 - val_f1_score: 0.9443\n",
      "Epoch 11/20\n",
      "1608/1607 [==============================] - ETA: 0s - loss: 0.0717 - accuracy: 0.9796 - f1_score: 0.9795\n",
      "Epoch 00011: val_loss did not improve from 0.19111\n",
      "1607/1607 [==============================] - 424s 264ms/step - loss: 0.0717 - accuracy: 0.9796 - f1_score: 0.9795 - val_loss: 0.2131 - val_accuracy: 0.9456 - val_f1_score: 0.9440\n",
      "Epoch 12/20\n",
      "1608/1607 [==============================] - ETA: 0s - loss: 0.0647 - accuracy: 0.9803 - f1_score: 0.9803\n",
      "Epoch 00012: val_loss did not improve from 0.19111\n",
      "1607/1607 [==============================] - 420s 261ms/step - loss: 0.0647 - accuracy: 0.9803 - f1_score: 0.9803 - val_loss: 0.2055 - val_accuracy: 0.9488 - val_f1_score: 0.9481\n",
      "Epoch 13/20\n",
      "1608/1607 [==============================] - ETA: 0s - loss: 0.0605 - accuracy: 0.9819 - f1_score: 0.9817\n",
      "Epoch 00013: val_loss improved from 0.19111 to 0.15775, saving model to ../models\\Xception_v2.h5\n",
      "1607/1607 [==============================] - 423s 263ms/step - loss: 0.0605 - accuracy: 0.9819 - f1_score: 0.9817 - val_loss: 0.1577 - val_accuracy: 0.9563 - val_f1_score: 0.9552\n",
      "Epoch 14/20\n",
      "1608/1607 [==============================] - ETA: 0s - loss: 0.0572 - accuracy: 0.9829 - f1_score: 0.9829\n",
      "Epoch 00014: val_loss did not improve from 0.15775\n",
      "1607/1607 [==============================] - 417s 259ms/step - loss: 0.0572 - accuracy: 0.9829 - f1_score: 0.9829 - val_loss: 0.1768 - val_accuracy: 0.9579 - val_f1_score: 0.9569\n",
      "Epoch 15/20\n",
      "1608/1607 [==============================] - ETA: 0s - loss: 0.0494 - accuracy: 0.9848 - f1_score: 0.9846\n",
      "Epoch 00015: val_loss did not improve from 0.15775\n",
      "1607/1607 [==============================] - 423s 263ms/step - loss: 0.0494 - accuracy: 0.9848 - f1_score: 0.9846 - val_loss: 0.1738 - val_accuracy: 0.9573 - val_f1_score: 0.9569\n",
      "Epoch 16/20\n",
      "1608/1607 [==============================] - ETA: 0s - loss: 0.0518 - accuracy: 0.9844 - f1_score: 0.9843\n",
      "Epoch 00016: val_loss did not improve from 0.15775\n",
      "1607/1607 [==============================] - 418s 260ms/step - loss: 0.0518 - accuracy: 0.9844 - f1_score: 0.9843 - val_loss: 0.1721 - val_accuracy: 0.9584 - val_f1_score: 0.9571\n",
      "Epoch 17/20\n",
      "1608/1607 [==============================] - ETA: 0s - loss: 0.0451 - accuracy: 0.9867 - f1_score: 0.9867\n",
      "Epoch 00017: val_loss did not improve from 0.15775\n",
      "1607/1607 [==============================] - 421s 262ms/step - loss: 0.0451 - accuracy: 0.9867 - f1_score: 0.9867 - val_loss: 0.2222 - val_accuracy: 0.9504 - val_f1_score: 0.9488\n",
      "Epoch 18/20\n",
      "1608/1607 [==============================] - ETA: 0s - loss: 0.0448 - accuracy: 0.9876 - f1_score: 0.9875\n",
      "Epoch 00018: val_loss did not improve from 0.15775\n",
      "1607/1607 [==============================] - 419s 261ms/step - loss: 0.0448 - accuracy: 0.9876 - f1_score: 0.9875 - val_loss: 0.2111 - val_accuracy: 0.9584 - val_f1_score: 0.9569\n"
     ]
    }
   ],
   "source": [
    "adam = Adam(learning_rate=0.0001) # ADAM optimizer was used to reach the optimal weights...\n",
    "Xception_model.compile(optimizer=adam, loss='categorical_crossentropy', metrics=['accuracy', tfa.metrics.F1Score(375)])\n",
    "\n",
    "\n",
    "# Fitting/training model...\n",
    "Xception_history = Xception_model.fit(\n",
    "    train_generator, \n",
    "    steps_per_epoch = len(train) / BATCH_SIZE, # number of steps in each epoch...\n",
    "    callbacks=xcep_callbacks,\n",
    "    epochs = EPOCHS, \n",
    "    validation_data = valid_generator)"
   ]
  },
  {
   "cell_type": "code",
   "execution_count": 32,
   "id": "f5bdad4c",
   "metadata": {},
   "outputs": [
    {
     "data": {
      "image/png": "[encoded data removed]",
      "text/plain": [
       "<Figure size 720x360 with 2 Axes>"
      ]
     },
     "metadata": {
      "needs_background": "light"
     },
     "output_type": "display_data"
    }
   ],
   "source": [
    "plotter(Xception_history, \"Xception\")"
   ]
  },
  {
   "cell_type": "code",
   "execution_count": 51,
   "id": "1c8eedee",
   "metadata": {},
   "outputs": [
    {
     "data": {
      "image/png": "[encoded data removed]",
      "text/plain": [
       "<Figure size 720x360 with 2 Axes>"
      ]
     },
     "metadata": {
      "needs_background": "light"
     },
     "output_type": "display_data"
    }
   ],
   "source": [
    "plotter(Xception_history, \"Xception Version 2:\")"
   ]
  },
  {
   "cell_type": "code",
   "execution_count": 52,
   "id": "e14bd899",
   "metadata": {},
   "outputs": [
    {
     "name": "stdout",
     "output_type": "stream",
     "text": [
      "56/56 [==============================] - 8s 145ms/step - loss: 0.1180 - accuracy: 0.9707 - f1_score: 0.9698\n"
     ]
    }
   ],
   "source": [
    "# xcep_model = load_model('../models/Xception.h5')\n",
    "Xception_model.evaluate(test_generator)"
   ]
  }
 ],
 "metadata": {
  "hide_input": false,
  "kernelspec": {
   "display_name": "Python 3 (ipykernel)",
   "language": "python",
   "name": "python3"
  },
  "language_info": {
   "codemirror_mode": {
    "name": "ipython",
    "version": 3
   },
   "file_extension": ".py",
   "mimetype": "text/x-python",
   "name": "python",
   "nbconvert_exporter": "python",
   "pygments_lexer": "ipython3",
   "version": "3.8.3"
  },
  "latex_envs": {
   "LaTeX_envs_menu_present": true,
   "autoclose": false,
   "autocomplete": true,
   "bibliofile": "biblio.bib",
   "cite_by": "apalike",
   "current_citInitial": 1,
   "eqLabelWithNumbers": true,
   "eqNumInitial": 1,
   "hotkeys": {
    "equation": "Ctrl-E",
    "itemize": "Ctrl-I"
   },
   "labels_anchors": false,
   "latex_user_defs": false,
   "report_style_numbering": false,
   "user_envs_cfg": false
  }
 },
 "nbformat": 4,
 "nbformat_minor": 5
}
